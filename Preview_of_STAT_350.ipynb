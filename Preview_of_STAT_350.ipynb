{
  "nbformat": 4,
  "nbformat_minor": 0,
  "metadata": {
    "orig_nbformat": 2,
    "deepnote_notebook_id": "9ed16de6-e2a2-4c73-9341-a29b16e2143d",
    "deepnote": {},
    "deepnote_execution_queue": [],
    "colab": {
      "name": "Preview of STAT 350",
      "provenance": [],
      "collapsed_sections": [],
      "include_colab_link": true
    },
    "language_info": {
      "name": "python"
    },
    "kernelspec": {
      "name": "python3",
      "display_name": "Python 3"
    }
  },
  "cells": [
    {
      "cell_type": "markdown",
      "metadata": {
        "id": "view-in-github",
        "colab_type": "text"
      },
      "source": [
        "<a href=\"https://colab.research.google.com/github/dlsun/Stat350-S21/blob/main/Preview_of_STAT_350.ipynb\" target=\"_parent\"><img src=\"https://colab.research.google.com/assets/colab-badge.svg\" alt=\"Open In Colab\"/></a>"
      ]
    },
    {
      "cell_type": "markdown",
      "metadata": {
        "tags": [],
        "cell_id": "00000-a8dc9046-437d-444b-844d-ec9bce433b27",
        "deepnote_cell_type": "markdown",
        "id": "6EQCcgcOjMyh"
      },
      "source": [
        "# Preview of STAT 350\n",
        "\n",
        "In EE 228 or CPE 327, you learned signal processing. In STAT 350, we will learn how to analyze _random_ signals. This notebook introduces the idea of random signals."
      ]
    },
    {
      "cell_type": "code",
      "metadata": {
        "tags": [],
        "cell_id": "00000-c0a8a0c0-dbca-44cb-a764-d09a15bb0059",
        "deepnote_to_be_reexecuted": false,
        "source_hash": "e95d1e2f",
        "execution_millis": 2685,
        "execution_start": 1617129789527,
        "deepnote_cell_type": "code",
        "id": "x7Ax1-9UjMyk"
      },
      "source": [
        "# load Python packages\n",
        "!pip install symbulate\n",
        "from symbulate import *\n",
        "from IPython.display import Audio"
      ],
      "execution_count": null,
      "outputs": []
    },
    {
      "cell_type": "markdown",
      "metadata": {
        "tags": [],
        "cell_id": "00002-49472188-dd30-408c-8ee8-f9852d89def6",
        "deepnote_cell_type": "markdown",
        "id": "edNz0XXpjMyl"
      },
      "source": [
        "## Generating a Random Signal\n",
        "\n",
        "We will generate a random signal $W_t$ by rolling a die repeatedly. You can roll an actual die or a [virtual die](https://flipsimu.com/dice-roller/).\n",
        "\n",
        "Roll the die 10 times and record the outcomes in the list below."
      ]
    },
    {
      "cell_type": "code",
      "metadata": {
        "tags": [],
        "cell_id": "00003-a3bd24cf-f8db-492b-b6d4-ae04e7690d76",
        "deepnote_to_be_reexecuted": false,
        "source_hash": "d5c91413",
        "execution_millis": 3,
        "execution_start": 1617129792216,
        "deepnote_cell_type": "code",
        "id": "4L0aeL-qjMyl"
      },
      "source": [
        "w = [0, 0, 0, 0, 0, 0, 0, 0, 0, 0]"
      ],
      "execution_count": null,
      "outputs": []
    },
    {
      "cell_type": "markdown",
      "metadata": {
        "tags": [],
        "cell_id": "00004-00f50846-e821-483e-baba-7444f72db22a",
        "deepnote_cell_type": "markdown",
        "id": "WBfoeT-RjMyl"
      },
      "source": [
        "Make sure you have run the cell above. Now, let's plot this random signal that we just generated."
      ]
    },
    {
      "cell_type": "code",
      "metadata": {
        "tags": [],
        "cell_id": "00004-697c4a6e-c962-4a46-bc11-cc39fdf52375",
        "deepnote_to_be_reexecuted": false,
        "source_hash": "f3b17cdf",
        "execution_millis": 133,
        "execution_start": 1617129792227,
        "deepnote_cell_type": "code",
        "id": "fY4AtzOKjMym"
      },
      "source": [
        "plot(w)"
      ],
      "execution_count": null,
      "outputs": []
    },
    {
      "cell_type": "markdown",
      "metadata": {
        "tags": [],
        "cell_id": "00006-20f89ca5-d0a9-46d0-a08c-27f2678f0334",
        "deepnote_cell_type": "markdown",
        "id": "3szkA5TVjMym"
      },
      "source": [
        "Notice that the outcome at each time does not depend on the outcomes at any other time. In other words, the dice rolls are _independent_.\n",
        "\n",
        "A signal that consists of independent values at each time is called _white noise_."
      ]
    },
    {
      "cell_type": "markdown",
      "metadata": {
        "tags": [],
        "cell_id": "00007-89fba854-646f-454f-9dc7-2c0d82be7353",
        "deepnote_cell_type": "markdown",
        "id": "Glme9jOVjMyn"
      },
      "source": [
        "## Other Random Signals"
      ]
    },
    {
      "cell_type": "markdown",
      "metadata": {
        "tags": [],
        "cell_id": "00006-63a61a09-7dae-4102-aea4-11c1c20b5f06",
        "deepnote_cell_type": "markdown",
        "id": "V-3djaNHjMyn"
      },
      "source": [
        "Let's generate a random signal $X_t$ that is not white noise. We will start with the white noise signal $W_t$ that we generated above and average consecutive values.\n",
        "\n",
        "$$ X_t = (W_t + W_{t+1}) / 2 $$\n",
        "\n",
        "_Hint:_ Since you only generated $W_0, W_1, ..., W_9$ above, you will only be able to determine $X_0, X_1, ..., X_8$. "
      ]
    },
    {
      "cell_type": "code",
      "metadata": {
        "tags": [],
        "cell_id": "00009-9fc0dea8-c787-448c-b6f3-09735d786886",
        "deepnote_to_be_reexecuted": false,
        "source_hash": "1b43722a",
        "execution_start": 1617129793924,
        "execution_millis": 134,
        "deepnote_cell_type": "code",
        "id": "BNf30elAjMyn"
      },
      "source": [
        "x = [0, 0, 0, 0, 0, 0, 0, 0, 0]\n",
        "plot(x)"
      ],
      "execution_count": null,
      "outputs": []
    },
    {
      "cell_type": "markdown",
      "metadata": {
        "tags": [],
        "cell_id": "00010-053508fa-b444-4efc-a697-c5559ad1ac1d",
        "deepnote_cell_type": "markdown",
        "id": "iefiOhUdjMyo"
      },
      "source": [
        "## What is the Difference?\n",
        "\n",
        "What's the difference between the random signals $W_t$ and $X_t$? Let's start by plotting them."
      ]
    },
    {
      "cell_type": "code",
      "metadata": {
        "tags": [],
        "cell_id": "00011-9baa741e-1a38-4bb4-979c-5f5c06322ee4",
        "deepnote_to_be_reexecuted": false,
        "source_hash": "97c07007",
        "execution_millis": 116,
        "execution_start": 1617129886304,
        "deepnote_cell_type": "code",
        "id": "Cn_R7AWHjMyo"
      },
      "source": [
        "plot(w)\n",
        "plot(x)"
      ],
      "execution_count": null,
      "outputs": []
    },
    {
      "cell_type": "markdown",
      "metadata": {
        "tags": [],
        "cell_id": "00013-5e8d107b-764a-46da-ad9f-f298ab947d8e",
        "deepnote_cell_type": "markdown",
        "id": "TuPQCQ-ujMyo"
      },
      "source": [
        "It's a little hard to tell from just 10 values of the signal. We need a longer sample of the signal. \n",
        "\n",
        "Instead of rolling the die manually, we will just have a computer simulate it. We will simulate it by asking the computer to draw tickets (with replacement) from the box \n",
        "\n",
        "$$ \\fbox{1} \\ \\fbox{2} \\ \\fbox{3} \\ \\fbox{4} \\ \\fbox{5} \\ \\fbox{6}. $$"
      ]
    },
    {
      "cell_type": "code",
      "metadata": {
        "tags": [],
        "cell_id": "00001-73236398-2d02-40a1-accb-c4e559fedc91",
        "deepnote_to_be_reexecuted": false,
        "source_hash": "ccc394c9",
        "execution_millis": 27,
        "execution_start": 1617130714029,
        "deepnote_cell_type": "code",
        "id": "pW4Mu4-ljMyo"
      },
      "source": [
        "P = BoxModel([1, 2, 3, 4, 5, 6], size=inf, replace=True)\n",
        "W = RandomProcess(P)\n",
        "w = W.draw()\n",
        "w"
      ],
      "execution_count": null,
      "outputs": []
    },
    {
      "cell_type": "code",
      "metadata": {
        "tags": [],
        "cell_id": "00002-4b0f16c2-fc1a-44af-9e43-f9c7c2400485",
        "deepnote_to_be_reexecuted": false,
        "source_hash": "7dc836bf",
        "execution_millis": 146,
        "execution_start": 1617130718464,
        "deepnote_cell_type": "code",
        "id": "XcbGvIgJjMyp"
      },
      "source": [
        "plot(w[:1000])"
      ],
      "execution_count": null,
      "outputs": []
    },
    {
      "cell_type": "code",
      "metadata": {
        "tags": [],
        "cell_id": "00015-eede43bb-b974-441c-ae31-09cd577c1fdc",
        "deepnote_to_be_reexecuted": false,
        "source_hash": "9b705077",
        "execution_millis": 1882,
        "execution_start": 1617130737611,
        "deepnote_cell_type": "code",
        "id": "maVEJapQjMyp"
      },
      "source": [
        "X = RandomProcess(P)\n",
        "for t in range(1000):\n",
        "    X[t] = (W[t] + W[t+1]) / 2\n",
        "x = X.draw()\n",
        "\n",
        "# plot 1000 samples of both w and x, for easy comparison\n",
        "plot(w[:1000])\n",
        "plot(x[:1000])"
      ],
      "execution_count": null,
      "outputs": []
    },
    {
      "cell_type": "markdown",
      "metadata": {
        "id": "V0qdCtpIjdmr"
      },
      "source": [
        "## Listening to the Signals\n",
        "\n",
        "We can also listen to the random signals we generated.\n",
        "\n",
        "First, let's listen to white noise."
      ]
    },
    {
      "cell_type": "code",
      "metadata": {
        "tags": [],
        "cell_id": "00003-fdf8ccc4-cb68-4133-8e93-5162a804ef90",
        "deepnote_to_be_reexecuted": false,
        "source_hash": "a5c00954",
        "execution_millis": 32,
        "execution_start": 1617130755000,
        "deepnote_cell_type": "code",
        "id": "lusN_6-IjMyq"
      },
      "source": [
        "Audio(w[:4000], rate=4000)"
      ],
      "execution_count": null,
      "outputs": []
    },
    {
      "cell_type": "markdown",
      "metadata": {
        "id": "jPmV9POJkYab"
      },
      "source": [
        "Now, let's listen to the other random signal we generated."
      ]
    },
    {
      "cell_type": "code",
      "metadata": {
        "tags": [],
        "cell_id": "00004-ee61bb41-2b13-4429-8e4d-e569cfa9af4d",
        "deepnote_to_be_reexecuted": false,
        "source_hash": "30adecd2",
        "execution_millis": 35,
        "execution_start": 1617130757430,
        "deepnote_cell_type": "code",
        "id": "E3fbQk9qjMyq"
      },
      "source": [
        "Audio(x[:4000], rate=4000)"
      ],
      "execution_count": null,
      "outputs": []
    },
    {
      "cell_type": "markdown",
      "metadata": {
        "id": "HPhvEP-Ckcd7"
      },
      "source": [
        "Can you tell the difference?"
      ]
    },
    {
      "cell_type": "markdown",
      "metadata": {
        "id": "bk9d5wLbkfPh"
      },
      "source": [
        "# Group Exercise\n",
        "\n",
        "We can think of the random signal $X_t$ above as \n",
        "$$ X_t = 0.5 W_t + 0.5 W_{t-1}. $$\n",
        "In general, we can define \n",
        "$$ X_t = a W_t + b W_{t-1} $$\n",
        "for coefficients $a$ and $b$. \n",
        "\n",
        "Simulate $X_t$ for several different values of $a$ and $b$. (You can copy and modify my code above.) How do the properties of the random signal $X_t$ change as you vary $a$ and $b$? Be sure to _plot_ and to _listen_ to the signals. Don't forget to consider positive, as well as negative, values of $a$ and $b$."
      ]
    },
    {
      "cell_type": "code",
      "metadata": {
        "id": "qlWQU10jp0v0"
      },
      "source": [
        ""
      ],
      "execution_count": null,
      "outputs": []
    },
    {
      "cell_type": "markdown",
      "metadata": {
        "id": "GJHc83Zyp1ze"
      },
      "source": [
        "When you are done, one member of your group should submit your answer [here](https://canvas.calpoly.edu/courses/55383/assignments/297125)."
      ]
    }
  ]
}